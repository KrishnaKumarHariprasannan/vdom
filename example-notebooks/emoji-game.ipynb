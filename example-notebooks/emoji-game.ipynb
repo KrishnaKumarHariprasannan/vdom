{
 "cells": [
  {
   "cell_type": "code",
   "execution_count": 1,
   "metadata": {
    "collapsed": false,
    "inputHidden": false,
    "outputHidden": false
   },
   "outputs": [],
   "source": [
    "from vdom import VDOM, h1, div, p, b, createComponent\n",
    "# marquee is deprecated officially by browsers\n",
    "# we're going to create and use it anyway\n",
    "marquee = createComponent('marquee')"
   ]
  },
  {
   "cell_type": "code",
   "execution_count": 2,
   "metadata": {
    "collapsed": false,
    "inputHidden": false,
    "outputHidden": false
   },
   "outputs": [],
   "source": [
    "from collections import Counter\n",
    "\nwinners = Counter()"
   ]
  },
  {
   "cell_type": "code",
   "execution_count": 10,
   "metadata": {
    "collapsed": false,
    "inputHidden": false,
    "outputHidden": false
   },
   "outputs": [
    {
     "data": {
      "application/vdom.v1+json": {
       "attributes": {},
       "children": [
        {
         "attributes": {
          "style": {
           "fontSize": "3em"
          }
         },
         "children": [
          "WINNER 🥑"
         ],
         "tagName": "h1"
        },
        {
         "attributes": {},
         "children": [
          "🥑: 2"
         ],
         "tagName": "p"
        },
        {
         "attributes": {},
         "children": [
          "🐱: 2"
         ],
         "tagName": "p"
        },
        {
         "attributes": {},
         "children": [
          "😻: 1"
         ],
         "tagName": "p"
        }
       ],
       "tagName": "div"
      },
      "text/plain": [
       "<div />"
      ]
     },
     "metadata": {},
     "output_type": "display_data"
    }
   ],
   "source": [
    "import secrets\n",
    "import time\n",
    "\n",
    "winner = \"\"\n",
    "\n",
    "# Each player should pick an emoji that you put into this array\n",
    "choices = [\"🥑\", \"🐱\", \"😻\"]\n",
    "\n",
    "game = display(h1('GAMETIME'), display_id=\"game\")\n",
    "\n",
    "for ii in range(40):\n",
    "    winner = str(secrets.choice(choices))\n",
    "    game.display(marquee(winner, style={ \"fontSize\" : '3em' }), update=True)\n",
    "    time.sleep(0.1)\n",
    "\n",
    "winners[winner] += 1\n",
    "    \n",
    "game.display(\n",
    "    div(\n",
    "        h1('WINNER ' + winner, style={ \"fontSize\" : '3em' }),\n",
    "        *list(map(lambda i: p(i + ': ' + str(winners[i])), winners))\n",
    "    ), \n",
    "    update=True\n",
    ")"
   ]
  },
  {
   "cell_type": "code",
   "execution_count": null,
   "metadata": {
    "collapsed": false,
    "inputHidden": false,
    "outputHidden": false
   },
   "outputs": [],
   "source": []
  }
 ],
 "metadata": {
  "kernel_info": {
   "name": "python3"
  },
  "kernelspec": {
   "display_name": "Python 3",
   "language": "python",
   "name": "python3"
  },
  "language_info": {
   "codemirror_mode": {
    "name": "ipython",
    "version": 3
   },
   "file_extension": ".py",
   "mimetype": "text/x-python",
   "name": "python",
   "nbconvert_exporter": "python",
   "pygments_lexer": "ipython3",
   "version": "3.6.3"
  },
  "nteract": {
   "version": "nteract-on-jupyter@1.6.0"
  }
 },
 "nbformat": 4,
 "nbformat_minor": 4
}
